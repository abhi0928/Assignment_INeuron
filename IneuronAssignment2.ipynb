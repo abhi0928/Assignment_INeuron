{
  "nbformat": 4,
  "nbformat_minor": 0,
  "metadata": {
    "colab": {
      "name": "IneuronAssignment.ipynb",
      "provenance": [],
      "collapsed_sections": [],
      "include_colab_link": true
    },
    "kernelspec": {
      "name": "python3",
      "display_name": "Python 3"
    }
  },
  "cells": [
    {
      "cell_type": "markdown",
      "metadata": {
        "id": "view-in-github",
        "colab_type": "text"
      },
      "source": [
        "<a href=\"https://colab.research.google.com/github/abhi0928/Assignment_INeuron/blob/master/IneuronAssignment2.ipynb\" target=\"_parent\"><img src=\"https://colab.research.google.com/assets/colab-badge.svg\" alt=\"Open In Colab\"/></a>"
      ]
    },
    {
      "cell_type": "markdown",
      "metadata": {
        "id": "bCxaEgM5wI8X",
        "colab_type": "text"
      },
      "source": [
        "# Task 1"
      ]
    },
    {
      "cell_type": "markdown",
      "metadata": {
        "id": "ERKSnGNPwOJl",
        "colab_type": "text"
      },
      "source": [
        "## 1.1 Write a Python Program to implement your own myreduce() function which works exactly like Python's built-in function reduce()"
      ]
    },
    {
      "cell_type": "code",
      "metadata": {
        "id": "cOE9fYT3uIo8",
        "colab_type": "code",
        "colab": {}
      },
      "source": [
        "def my_reduce(fun, iterables):\n",
        "    val = iterables[0]\n",
        "    for i in range(1, len(iterables)):\n",
        "        val = fun(val, iterables[i])\n",
        "    return val    "
      ],
      "execution_count": 0,
      "outputs": []
    },
    {
      "cell_type": "code",
      "metadata": {
        "id": "2_ThfmfwwBOH",
        "colab_type": "code",
        "outputId": "d3a97676-5e1c-4ef6-afe7-f82f9ec35155",
        "colab": {
          "base_uri": "https://localhost:8080/",
          "height": 34
        }
      },
      "source": [
        "# testing my_reduce with reduce\n",
        "\n",
        "li = [1, 2, 3, 4, 5]\n",
        "\n",
        "def func(a, b):\n",
        "    return a + b\n",
        "\n",
        "my_reduce(func, li)"
      ],
      "execution_count": 0,
      "outputs": [
        {
          "output_type": "execute_result",
          "data": {
            "text/plain": [
              "15"
            ]
          },
          "metadata": {
            "tags": []
          },
          "execution_count": 2
        }
      ]
    },
    {
      "cell_type": "code",
      "metadata": {
        "id": "8VD-K1aI39z7",
        "colab_type": "code",
        "outputId": "d5dcd7f7-eb7a-48f0-93d0-5030002306b5",
        "colab": {
          "base_uri": "https://localhost:8080/",
          "height": 34
        }
      },
      "source": [
        "from functools import reduce\n",
        "reduce(func, li)"
      ],
      "execution_count": 0,
      "outputs": [
        {
          "output_type": "execute_result",
          "data": {
            "text/plain": [
              "15"
            ]
          },
          "metadata": {
            "tags": []
          },
          "execution_count": 3
        }
      ]
    },
    {
      "cell_type": "markdown",
      "metadata": {
        "id": "MUA-IEq6wsy7",
        "colab_type": "text"
      },
      "source": [
        "## 1.2 Write a Python program to implement your own myfilter() function which works exactly like Python's built-in function filter()"
      ]
    },
    {
      "cell_type": "code",
      "metadata": {
        "id": "CqSaqCAHxhAE",
        "colab_type": "code",
        "colab": {}
      },
      "source": [
        "# creating my own filter function\n",
        "def my_filter(fun, iterables):\n",
        "    temp_li = []\n",
        "    for i in iterables:\n",
        "        if fun(i) is True:\n",
        "            temp_li.append(i)\n",
        "        else:\n",
        "            pass\n",
        "    return iter(temp_li)       \n"
      ],
      "execution_count": 0,
      "outputs": []
    },
    {
      "cell_type": "code",
      "metadata": {
        "id": "KQV18P0B0Piy",
        "colab_type": "code",
        "outputId": "bb52fec8-6337-4321-aa3a-9bf01d220f0c",
        "colab": {
          "base_uri": "https://localhost:8080/",
          "height": 34
        }
      },
      "source": [
        "# testing my_filter with python's built in filter function\n",
        "li = [1, 2, 3, 4, 5, 6, 7, 8, 9, 10]\n",
        "\n",
        "# my_filter function\n",
        "my_filter(lambda x : x % 2 == 0, li)    # returns an iterator\n",
        "list(my_filter(lambda x : x % 2 == 0, li))"
      ],
      "execution_count": 0,
      "outputs": [
        {
          "output_type": "execute_result",
          "data": {
            "text/plain": [
              "[2, 4, 6, 8, 10]"
            ]
          },
          "metadata": {
            "tags": []
          },
          "execution_count": 5
        }
      ]
    },
    {
      "cell_type": "code",
      "metadata": {
        "id": "5VUFtCxF3O2M",
        "colab_type": "code",
        "outputId": "6c3ea488-9a55-4520-8bab-8deae7a1ea4a",
        "colab": {
          "base_uri": "https://localhost:8080/",
          "height": 34
        }
      },
      "source": [
        "# built-in filter function\n",
        "\n",
        "filter(lambda x : x % 2 == 0, li)      # returns an iterator\n",
        "list(filter(lambda x : x % 2 == 0, li))"
      ],
      "execution_count": 0,
      "outputs": [
        {
          "output_type": "execute_result",
          "data": {
            "text/plain": [
              "[2, 4, 6, 8, 10]"
            ]
          },
          "metadata": {
            "tags": []
          },
          "execution_count": 6
        }
      ]
    },
    {
      "cell_type": "code",
      "metadata": {
        "id": "9UJXYy4a05lR",
        "colab_type": "code",
        "colab": {}
      },
      "source": [
        "def fun(variable): \n",
        "    letters = ['a', 'e', 'i', 'o', 'u'] \n",
        "    if (variable in letters): \n",
        "        return True\n",
        "    else: \n",
        "        return False\n",
        "\n",
        "sequence = ['g', 'e', 'e', 'j', 'k', 's', 'p', 'r']         "
      ],
      "execution_count": 0,
      "outputs": []
    },
    {
      "cell_type": "code",
      "metadata": {
        "id": "8SM8OO7w1XDx",
        "colab_type": "code",
        "outputId": "ef5c2760-0135-48bc-88bb-35495a757b6f",
        "colab": {
          "base_uri": "https://localhost:8080/",
          "height": 34
        }
      },
      "source": [
        "list(my_filter(fun, sequence))"
      ],
      "execution_count": 0,
      "outputs": [
        {
          "output_type": "execute_result",
          "data": {
            "text/plain": [
              "['e', 'e']"
            ]
          },
          "metadata": {
            "tags": []
          },
          "execution_count": 8
        }
      ]
    },
    {
      "cell_type": "code",
      "metadata": {
        "id": "Y7Kyo1_N2B6P",
        "colab_type": "code",
        "outputId": "5a6fbe2a-a883-4237-bce5-c63bf3a7356a",
        "colab": {
          "base_uri": "https://localhost:8080/",
          "height": 34
        }
      },
      "source": [
        "list(filter(fun, sequence))"
      ],
      "execution_count": 0,
      "outputs": [
        {
          "output_type": "execute_result",
          "data": {
            "text/plain": [
              "['e', 'e']"
            ]
          },
          "metadata": {
            "tags": []
          },
          "execution_count": 9
        }
      ]
    },
    {
      "cell_type": "markdown",
      "metadata": {
        "id": "ToYdrgpy4YGd",
        "colab_type": "text"
      },
      "source": [
        "## Implement List comprehensions to produce the following lists.\n",
        "## Write List comprehensions to produce the following Lists\n",
        "## ['A', 'C', 'A', 'D', 'G', 'I', ’L’, ‘ D’]\n",
        "## ['x', 'xx', 'xxx', 'xxxx', 'y', 'yy', 'yyy', 'yyyy', 'z', 'zz', 'zzz', 'zzzz']\n",
        "## ['x', 'y', 'z', 'xx', 'yy', 'zz', 'xx', 'yy', 'zz', 'xxxx', 'yyyy', 'zzzz']\n",
        "\n",
        "## [[2], [3], [4], [3], [4], [5], [4], [5], [6]]\n",
        "## [[2, 3, 4, 5], [3, 4, 5, 6], [4, 5, 6, 7], [5, 6, 7, 8]]\n",
        "## [(1, 1), (2, 1), (3, 1), (1, 2), (2, 2), (3, 2), (1, 3), (2, 3), (3, 3)]"
      ]
    },
    {
      "cell_type": "code",
      "metadata": {
        "id": "Bm-DeI4LZiMK",
        "colab_type": "code",
        "colab": {
          "base_uri": "https://localhost:8080/",
          "height": 34
        },
        "outputId": "1f19e77f-6fcb-4cae-b8af-8c3ddf9e0356"
      },
      "source": [
        "[i for i in ('ACADGILD')]"
      ],
      "execution_count": 1,
      "outputs": [
        {
          "output_type": "execute_result",
          "data": {
            "text/plain": [
              "['A', 'C', 'A', 'D', 'G', 'I', 'L', 'D']"
            ]
          },
          "metadata": {
            "tags": []
          },
          "execution_count": 1
        }
      ]
    },
    {
      "cell_type": "code",
      "metadata": {
        "id": "8xOsIAR65kbW",
        "colab_type": "code",
        "outputId": "6586c540-141a-49e0-c398-fdbf5200af06",
        "colab": {
          "base_uri": "https://localhost:8080/",
          "height": 34
        }
      },
      "source": [
        "[i * j for i in ['x', 'y', 'z'] for j in range(1, 5)]"
      ],
      "execution_count": 0,
      "outputs": [
        {
          "output_type": "execute_result",
          "data": {
            "text/plain": [
              "['x', 'xx', 'xxx', 'xxxx', 'y', 'yy', 'yyy', 'yyyy', 'z', 'zz', 'zzz', 'zzzz']"
            ]
          },
          "metadata": {
            "tags": []
          },
          "execution_count": 10
        }
      ]
    },
    {
      "cell_type": "code",
      "metadata": {
        "id": "rviUNlMh7llp",
        "colab_type": "code",
        "outputId": "cf11272c-a2fa-4b7c-97a6-7ab672333047",
        "colab": {
          "base_uri": "https://localhost:8080/",
          "height": 34
        }
      },
      "source": [
        "[i * j for i in range(1, 5) for j in ['x', 'y', 'z']]"
      ],
      "execution_count": 0,
      "outputs": [
        {
          "output_type": "execute_result",
          "data": {
            "text/plain": [
              "['x', 'y', 'z', 'xx', 'yy', 'zz', 'xxx', 'yyy', 'zzz', 'xxxx', 'yyyy', 'zzzz']"
            ]
          },
          "metadata": {
            "tags": []
          },
          "execution_count": 11
        }
      ]
    },
    {
      "cell_type": "code",
      "metadata": {
        "id": "IfP9qUEi9qtH",
        "colab_type": "code",
        "outputId": "2bdabdf8-52b0-489e-dca0-af8cd31f9d37",
        "colab": {
          "base_uri": "https://localhost:8080/",
          "height": 34
        }
      },
      "source": [
        "[[i + j] for i in range(2, 5) for j in range(3)]"
      ],
      "execution_count": 0,
      "outputs": [
        {
          "output_type": "execute_result",
          "data": {
            "text/plain": [
              "[[2], [3], [4], [3], [4], [5], [4], [5], [6]]"
            ]
          },
          "metadata": {
            "tags": []
          },
          "execution_count": 12
        }
      ]
    },
    {
      "cell_type": "code",
      "metadata": {
        "id": "LsYlkVFj1d0a",
        "colab_type": "code",
        "outputId": "f65d77c4-5af6-4bea-f40b-5c71541557ed",
        "colab": {
          "base_uri": "https://localhost:8080/",
          "height": 34
        }
      },
      "source": [
        "[[i + j for j in range(4)] for i in range(2, 6)]"
      ],
      "execution_count": 0,
      "outputs": [
        {
          "output_type": "execute_result",
          "data": {
            "text/plain": [
              "[[2, 3, 4, 5], [3, 4, 5, 6], [4, 5, 6, 7], [5, 6, 7, 8]]"
            ]
          },
          "metadata": {
            "tags": []
          },
          "execution_count": 13
        }
      ]
    },
    {
      "cell_type": "code",
      "metadata": {
        "id": "M_dLnFPm1fhv",
        "colab_type": "code",
        "outputId": "236c48f9-9c9e-4f6f-dce4-07027dc0eebe",
        "colab": {
          "base_uri": "https://localhost:8080/",
          "height": 34
        }
      },
      "source": [
        "[(j, i) for i in range(1, 4) for j in range(1, 4)]"
      ],
      "execution_count": 0,
      "outputs": [
        {
          "output_type": "execute_result",
          "data": {
            "text/plain": [
              "[(1, 1), (2, 1), (3, 1), (1, 2), (2, 2), (3, 2), (1, 3), (2, 3), (3, 3)]"
            ]
          },
          "metadata": {
            "tags": []
          },
          "execution_count": 14
        }
      ]
    },
    {
      "cell_type": "markdown",
      "metadata": {
        "id": "C5oOR_HO9W0K",
        "colab_type": "text"
      },
      "source": [
        "# Task 2"
      ]
    },
    {
      "cell_type": "markdown",
      "metadata": {
        "id": "Bkq33Tep9kNB",
        "colab_type": "text"
      },
      "source": [
        "## 2.1 Write a Python Program(with class concepts) to find the area of the triangle using the below formula. \n",
        "## area = (s*(s-a)*(s-b)*(s-c)) ** 0.5\n"
      ]
    },
    {
      "cell_type": "code",
      "metadata": {
        "id": "hre3W808Ntts",
        "colab_type": "code",
        "outputId": "d1e4bdf8-22ca-42df-8be8-de6796c29f57",
        "colab": {
          "base_uri": "https://localhost:8080/",
          "height": 107
        }
      },
      "source": [
        "import math\n",
        " \n",
        "a = int(input('Please enter the first side of a triangle: '))\n",
        "b = int(input('Please enter the second side of a triangle: '))\n",
        "c = int(input('Please enter the third side of a triangle: '))\n",
        "class triangle():\n",
        "   def __init__(self,a,b,c):\n",
        "       self.a = a\n",
        "       self.b = b\n",
        "       self.c = c\n",
        "   def area(self):\n",
        "       s=(a + b + c)/2\n",
        "       area=math.sqrt(s*(s-a)*(s-b)*(s-c))\n",
        "       return area\n",
        "t = triangle(a, b, c)\n",
        "t.area()"
      ],
      "execution_count": 0,
      "outputs": [
        {
          "output_type": "stream",
          "text": [
            "Please enter the first side of a triangle: 3\n",
            "Please enter the second side of a triangle: 4\n",
            "Please enter the third side of a triangle: 5\n"
          ],
          "name": "stdout"
        },
        {
          "output_type": "execute_result",
          "data": {
            "text/plain": [
              "6.0"
            ]
          },
          "metadata": {
            "tags": []
          },
          "execution_count": 15
        }
      ]
    },
    {
      "cell_type": "markdown",
      "metadata": {
        "id": "RXhCELimwThn",
        "colab_type": "text"
      },
      "source": [
        "## 2.2 Write a function filter_long_words() that takes a list of words and an integer n and returns the list of words that are longer than n."
      ]
    },
    {
      "cell_type": "code",
      "metadata": {
        "id": "t5ZQoQYcRXS4",
        "colab_type": "code",
        "outputId": "ceb37c90-ff29-40e9-8a0a-41c8031660f3",
        "colab": {
          "base_uri": "https://localhost:8080/",
          "height": 52
        }
      },
      "source": [
        "n = int(input('Enter range : '))\n",
        "li = ['hello', 'sudhanshu', 'and krish', 'sir', 'hi', 'awesome', 'there']\n",
        "\n",
        "def filter_long_words(n, words):\n",
        "    word_list = []\n",
        "\n",
        "    for i in words:\n",
        "        if len(i) > n:\n",
        "            word_list.append(i)\n",
        "        else:\n",
        "            pass \n",
        "    return word_list                      \n",
        "\n",
        "filter_long_words(n, li)"
      ],
      "execution_count": 0,
      "outputs": [
        {
          "output_type": "stream",
          "text": [
            "Enter range : 4\n"
          ],
          "name": "stdout"
        },
        {
          "output_type": "execute_result",
          "data": {
            "text/plain": [
              "['hello', 'sudhanshu', 'and krish', 'awesome', 'there']"
            ]
          },
          "metadata": {
            "tags": []
          },
          "execution_count": 16
        }
      ]
    },
    {
      "cell_type": "markdown",
      "metadata": {
        "id": "cXANl6qJyeww",
        "colab_type": "text"
      },
      "source": [
        "## 2.3 Write a Python program using function concept that maps list of words into a list of integers representing the lengths of the corresponding words ."
      ]
    },
    {
      "cell_type": "code",
      "metadata": {
        "id": "WKPMGCmhxUhg",
        "colab_type": "code",
        "outputId": "e31026cb-3d2d-4401-a23b-b89b01f761dd",
        "colab": {
          "base_uri": "https://localhost:8080/",
          "height": 34
        }
      },
      "source": [
        "li = ['hello', 'sudhanshu', 'and krish', 'sir', 'hi', 'awesome', 'there']\n",
        "\n",
        "def length_of_words(words):\n",
        "    word_list = []\n",
        "    for i in words:\n",
        "        word_list.append(len(i))\n",
        "    return word_list\n",
        "\n",
        "length_of_words(li)        "
      ],
      "execution_count": 0,
      "outputs": [
        {
          "output_type": "execute_result",
          "data": {
            "text/plain": [
              "[5, 9, 9, 3, 2, 7, 5]"
            ]
          },
          "metadata": {
            "tags": []
          },
          "execution_count": 17
        }
      ]
    },
    {
      "cell_type": "markdown",
      "metadata": {
        "id": "qe3lZpjtzVM0",
        "colab_type": "text"
      },
      "source": [
        "## 2.4 Write a Python function which takes a character (i.e. a string of length 1) and returns True if it is a vowel, False otherwise."
      ]
    },
    {
      "cell_type": "code",
      "metadata": {
        "id": "eb0HZ5PXx9ov",
        "colab_type": "code",
        "outputId": "da7d44be-291e-4a0b-f3c6-ad63fd9ffd7d",
        "colab": {
          "base_uri": "https://localhost:8080/",
          "height": 34
        }
      },
      "source": [
        "li = ['a', 'h', 'hr', 'j', 'o']\n",
        "\n",
        "def vowel_detecter(ch):\n",
        "    vowel_list = ['a', 'e', 'i', 'o', 'u']\n",
        "    if len(ch) == 1:\n",
        "        if ch in vowel_list:\n",
        "            return True\n",
        "        else:\n",
        "            return False  \n",
        "    else:\n",
        "         None   \n",
        "\n",
        "list(map(vowel_detecter, li))              "
      ],
      "execution_count": 0,
      "outputs": [
        {
          "output_type": "execute_result",
          "data": {
            "text/plain": [
              "[True, False, None, False, True]"
            ]
          },
          "metadata": {
            "tags": []
          },
          "execution_count": 18
        }
      ]
    },
    {
      "cell_type": "code",
      "metadata": {
        "id": "XLsBE4MM1Bri",
        "colab_type": "code",
        "colab": {}
      },
      "source": [
        ""
      ],
      "execution_count": 0,
      "outputs": []
    },
    {
      "cell_type": "code",
      "metadata": {
        "id": "xr4EX5Ku18Cv",
        "colab_type": "code",
        "colab": {}
      },
      "source": [
        ""
      ],
      "execution_count": 0,
      "outputs": []
    }
  ]
}