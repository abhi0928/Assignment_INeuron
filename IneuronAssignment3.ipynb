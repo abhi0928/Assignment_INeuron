{
  "nbformat": 4,
  "nbformat_minor": 0,
  "metadata": {
    "colab": {
      "name": "IneuronAssignment3.ipynb",
      "provenance": [],
      "collapsed_sections": [],
      "include_colab_link": true
    },
    "kernelspec": {
      "name": "python3",
      "display_name": "Python 3"
    }
  },
  "cells": [
    {
      "cell_type": "markdown",
      "metadata": {
        "id": "view-in-github",
        "colab_type": "text"
      },
      "source": [
        "<a href=\"https://colab.research.google.com/github/abhi0928/Assignment_INeuron/blob/master/IneuronAssignment3.ipynb\" target=\"_parent\"><img src=\"https://colab.research.google.com/assets/colab-badge.svg\" alt=\"Open In Colab\"/></a>"
      ]
    },
    {
      "cell_type": "markdown",
      "metadata": {
        "id": "4as_7ucn9A-8",
        "colab_type": "text"
      },
      "source": [
        "# Task 1"
      ]
    },
    {
      "cell_type": "markdown",
      "metadata": {
        "id": "g06z6VFS9HAc",
        "colab_type": "text"
      },
      "source": [
        "##1.1 Write a function to compute 5/0 and use try/except to catch the exceptions."
      ]
    },
    {
      "cell_type": "code",
      "metadata": {
        "id": "Su8r6D6z9AQs",
        "colab_type": "code",
        "colab": {}
      },
      "source": [
        "def zero_div():\n",
        "    try:\n",
        "        num = 5 / 0\n",
        "    except ZeroDivisionError:\n",
        "        print('not divide by 0')   "
      ],
      "execution_count": 0,
      "outputs": []
    },
    {
      "cell_type": "code",
      "metadata": {
        "id": "-nd_XB3k9r80",
        "colab_type": "code",
        "outputId": "0a2ddd91-2f0a-4347-b096-52f83d7ac7fd",
        "colab": {
          "base_uri": "https://localhost:8080/",
          "height": 34
        }
      },
      "source": [
        "zero_div()"
      ],
      "execution_count": 2,
      "outputs": [
        {
          "output_type": "stream",
          "text": [
            "not divide by 0\n"
          ],
          "name": "stdout"
        }
      ]
    },
    {
      "cell_type": "markdown",
      "metadata": {
        "id": "mseNCptM93ls",
        "colab_type": "text"
      },
      "source": [
        "## 1.2 Implement a Python program to generate all sentences where subject is in [\"Americans\", \"Indians\"] and verb is in [\"Play\", \"watch\"] and the object is in [\"Baseball\",\"cricket\"]."
      ]
    },
    {
      "cell_type": "code",
      "metadata": {
        "id": "7WoVMZLd9vcp",
        "colab_type": "code",
        "outputId": "7f515aff-96e9-4a00-fcea-38d659e27b71",
        "colab": {
          "base_uri": "https://localhost:8080/",
          "height": 158
        }
      },
      "source": [
        "subjects = ['Americans', 'Indians']\n",
        "verbs = ['Play', 'watch']\n",
        "objects = ['Baseball', 'Cricket']\n",
        "\n",
        "for subject in subjects:\n",
        "    for verb in verbs:\n",
        "        for object_ in objects:\n",
        "            print(f'{subject} {verb} {object_}')"
      ],
      "execution_count": 3,
      "outputs": [
        {
          "output_type": "stream",
          "text": [
            "Americans Play Baseball\n",
            "Americans Play Cricket\n",
            "Americans watch Baseball\n",
            "Americans watch Cricket\n",
            "Indians Play Baseball\n",
            "Indians Play Cricket\n",
            "Indians watch Baseball\n",
            "Indians watch Cricket\n"
          ],
          "name": "stdout"
        }
      ]
    },
    {
      "cell_type": "markdown",
      "metadata": {
        "id": "L2PtrkelG4lO",
        "colab_type": "text"
      },
      "source": [
        "# Task 2"
      ]
    },
    {
      "cell_type": "markdown",
      "metadata": {
        "id": "jNGzfnyKG7Ie",
        "colab_type": "text"
      },
      "source": [
        "## 2.1 Write a function so that the columns of the output matrix are powers of the input vector."
      ]
    },
    {
      "cell_type": "code",
      "metadata": {
        "id": "mzRmlS1w_tH9",
        "colab_type": "code",
        "outputId": "a8d99e17-7932-40b3-b4eb-f4ac617d8a73",
        "colab": {
          "base_uri": "https://localhost:8080/",
          "height": 123
        }
      },
      "source": [
        "import numpy as np\n",
        "\n",
        "x = [1, 2, 3, 4, 5, 6]\n",
        "N = 3\n",
        "arr = np.vander(x, N)\n",
        "np.column_stack([arr[:, n] for n in range(2, -1, -1)])"
      ],
      "execution_count": 4,
      "outputs": [
        {
          "output_type": "execute_result",
          "data": {
            "text/plain": [
              "array([[ 1,  1,  1],\n",
              "       [ 1,  2,  4],\n",
              "       [ 1,  3,  9],\n",
              "       [ 1,  4, 16],\n",
              "       [ 1,  5, 25],\n",
              "       [ 1,  6, 36]])"
            ]
          },
          "metadata": {
            "tags": []
          },
          "execution_count": 4
        }
      ]
    }
  ]
}